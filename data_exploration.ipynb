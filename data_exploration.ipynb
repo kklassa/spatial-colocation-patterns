{
 "cells": [
  {
   "cell_type": "markdown",
   "id": "7b7b3092",
   "metadata": {},
   "source": [
    "# Data Exploration"
   ]
  },
  {
   "cell_type": "markdown",
   "id": "36facf6d",
   "metadata": {},
   "source": [
    "###  OpenStreetMap"
   ]
  },
  {
   "cell_type": "code",
   "execution_count": null,
   "id": "37985185",
   "metadata": {},
   "outputs": [],
   "source": [
    "import overpy\n",
    "\n",
    "api = overpy.Overpass()"
   ]
  },
  {
   "cell_type": "code",
   "execution_count": null,
   "id": "2e84f465",
   "metadata": {},
   "outputs": [],
   "source": [
    "query = \"\"\"\n",
    "[out:json];\n",
    "(\n",
    "  node[\"amenity\"=\"restaurant\"](52.229,20.944,52.410,21.222);\n",
    "  node[\"amenity\"=\"bank\"](52.229,20.944,52.410,21.222);\n",
    ");\n",
    "out body;\n",
    "\"\"\"\n",
    "\n",
    "result = api.query(query)"
   ]
  },
  {
   "cell_type": "code",
   "execution_count": 6,
   "id": "8d5c62b7",
   "metadata": {},
   "outputs": [
    {
     "data": {
      "text/plain": [
       "1167"
      ]
     },
     "execution_count": 6,
     "metadata": {},
     "output_type": "execute_result"
    }
   ],
   "source": [
    "len(result.nodes)"
   ]
  },
  {
   "cell_type": "code",
   "execution_count": 23,
   "id": "adf25c4e",
   "metadata": {},
   "outputs": [
    {
     "name": "stdout",
     "output_type": "stream",
     "text": [
      "restaurant at (52.2399471, 21.0619767)\n",
      "restaurant at (52.2312362, 21.0121087)\n",
      "restaurant at (52.2340883, 21.0233987)\n",
      "restaurant at (52.2484456, 21.0142668)\n",
      "restaurant at (52.2371565, 21.1191810)\n"
     ]
    }
   ],
   "source": [
    "for node in result.nodes[:5]:\n",
    "    print(f\"{node.tags.get('amenity', 'unknown')} at ({node.lat}, {node.lon})\")"
   ]
  },
  {
   "cell_type": "code",
   "execution_count": null,
   "id": "4e98984b",
   "metadata": {},
   "outputs": [],
   "source": []
  },
  {
   "cell_type": "markdown",
   "id": "85745a28",
   "metadata": {},
   "source": [
    "### GBIF"
   ]
  },
  {
   "cell_type": "code",
   "execution_count": 8,
   "id": "ea350a42",
   "metadata": {},
   "outputs": [],
   "source": [
    "from pygbif import occurrences"
   ]
  },
  {
   "cell_type": "code",
   "execution_count": 15,
   "id": "accf7630",
   "metadata": {},
   "outputs": [
    {
     "ename": "HTTPError",
     "evalue": "400 Client Error: Bad Request for url: https://api.gbif.org/v1/occurrence/search?geometry=%28%2852.229%2C20.944%2C52.410%2C21.222%29%29&limit=300&offset=0&taxon.key=6",
     "output_type": "error",
     "traceback": [
      "\u001b[31m---------------------------------------------------------------------------\u001b[39m",
      "\u001b[31mHTTPError\u001b[39m                                 Traceback (most recent call last)",
      "\u001b[36mCell\u001b[39m\u001b[36m \u001b[39m\u001b[32mIn[15]\u001b[39m\u001b[32m, line 1\u001b[39m\n\u001b[32m----> \u001b[39m\u001b[32m1\u001b[39m results = \u001b[43moccurrences\u001b[49m\u001b[43m.\u001b[49m\u001b[43msearch\u001b[49m\u001b[43m(\u001b[49m\u001b[43mtaxon_key\u001b[49m\u001b[43m=\u001b[49m\u001b[32;43m6\u001b[39;49m\u001b[43m,\u001b[49m\u001b[43m \u001b[49m\u001b[43mgeometry\u001b[49m\u001b[43m=\u001b[49m\u001b[33;43m\"\u001b[39;49m\u001b[33;43m((52.229,20.944,52.410,21.222))\u001b[39;49m\u001b[33;43m\"\u001b[39;49m\u001b[43m)\u001b[49m\n",
      "\u001b[36mFile \u001b[39m\u001b[32mc:\\Users\\kacpe\\Code\\Uni\\25L\\SPDB\\spatial-colocation-patterns\\.venv\\Lib\\site-packages\\pygbif\\occurrences\\search.py:408\u001b[39m, in \u001b[36msearch\u001b[39m\u001b[34m(taxonKey, repatriated, kingdomKey, phylumKey, classKey, orderKey, familyKey, genusKey, subgenusKey, scientificName, country, publishingCountry, hasCoordinate, typeStatus, recordNumber, lastInterpreted, continent, geometry, recordedBy, recordedByID, identifiedByID, basisOfRecord, datasetKey, eventDate, catalogNumber, year, month, decimalLatitude, decimalLongitude, elevation, depth, institutionCode, collectionCode, hasGeospatialIssue, issue, q, spellCheck, mediatype, limit, offset, establishmentMeans, facet, facetMincount, facetMultiselect, **kwargs)\u001b[39m\n\u001b[32m    406\u001b[39m     args.update(xx)\n\u001b[32m    407\u001b[39m kwargs = {key: kwargs[key] \u001b[38;5;28;01mfor\u001b[39;00m key \u001b[38;5;129;01min\u001b[39;00m kwargs \u001b[38;5;28;01mif\u001b[39;00m key \u001b[38;5;129;01min\u001b[39;00m requests_argset}\n\u001b[32m--> \u001b[39m\u001b[32m408\u001b[39m out = \u001b[43mgbif_GET\u001b[49m\u001b[43m(\u001b[49m\u001b[43murl\u001b[49m\u001b[43m,\u001b[49m\u001b[43m \u001b[49m\u001b[43margs\u001b[49m\u001b[43m,\u001b[49m\u001b[43m \u001b[49m\u001b[43m*\u001b[49m\u001b[43m*\u001b[49m\u001b[43mkwargs\u001b[49m\u001b[43m)\u001b[49m\n\u001b[32m    409\u001b[39m \u001b[38;5;28;01mreturn\u001b[39;00m out\n",
      "\u001b[36mFile \u001b[39m\u001b[32mc:\\Users\\kacpe\\Code\\Uni\\25L\\SPDB\\spatial-colocation-patterns\\.venv\\Lib\\site-packages\\pygbif\\gbifutils.py:34\u001b[39m, in \u001b[36mgbif_GET\u001b[39m\u001b[34m(url, args, **kwargs)\u001b[39m\n\u001b[32m     32\u001b[39m \u001b[38;5;28;01mdef\u001b[39;00m\u001b[38;5;250m \u001b[39m\u001b[34mgbif_GET\u001b[39m(url, args, **kwargs):\n\u001b[32m     33\u001b[39m     out = requests.get(url, params=args, headers=make_ua(), **kwargs)\n\u001b[32m---> \u001b[39m\u001b[32m34\u001b[39m     \u001b[43mout\u001b[49m\u001b[43m.\u001b[49m\u001b[43mraise_for_status\u001b[49m\u001b[43m(\u001b[49m\u001b[43m)\u001b[49m\n\u001b[32m     35\u001b[39m     stopifnot(out.headers[\u001b[33m\"\u001b[39m\u001b[33mcontent-type\u001b[39m\u001b[33m\"\u001b[39m])\n\u001b[32m     36\u001b[39m     \u001b[38;5;28;01mreturn\u001b[39;00m out.json()\n",
      "\u001b[36mFile \u001b[39m\u001b[32mc:\\Users\\kacpe\\Code\\Uni\\25L\\SPDB\\spatial-colocation-patterns\\.venv\\Lib\\site-packages\\requests\\models.py:1024\u001b[39m, in \u001b[36mResponse.raise_for_status\u001b[39m\u001b[34m(self)\u001b[39m\n\u001b[32m   1019\u001b[39m     http_error_msg = (\n\u001b[32m   1020\u001b[39m         \u001b[33mf\u001b[39m\u001b[33m\"\u001b[39m\u001b[38;5;132;01m{\u001b[39;00m\u001b[38;5;28mself\u001b[39m.status_code\u001b[38;5;132;01m}\u001b[39;00m\u001b[33m Server Error: \u001b[39m\u001b[38;5;132;01m{\u001b[39;00mreason\u001b[38;5;132;01m}\u001b[39;00m\u001b[33m for url: \u001b[39m\u001b[38;5;132;01m{\u001b[39;00m\u001b[38;5;28mself\u001b[39m.url\u001b[38;5;132;01m}\u001b[39;00m\u001b[33m\"\u001b[39m\n\u001b[32m   1021\u001b[39m     )\n\u001b[32m   1023\u001b[39m \u001b[38;5;28;01mif\u001b[39;00m http_error_msg:\n\u001b[32m-> \u001b[39m\u001b[32m1024\u001b[39m     \u001b[38;5;28;01mraise\u001b[39;00m HTTPError(http_error_msg, response=\u001b[38;5;28mself\u001b[39m)\n",
      "\u001b[31mHTTPError\u001b[39m: 400 Client Error: Bad Request for url: https://api.gbif.org/v1/occurrence/search?geometry=%28%2852.229%2C20.944%2C52.410%2C21.222%29%29&limit=300&offset=0&taxon.key=6"
     ]
    }
   ],
   "source": [
    "results = occurrences.search(taxon_key=6, geometry=\"((52.229,20.944,52.410,21.222))\")"
   ]
  },
  {
   "cell_type": "code",
   "execution_count": null,
   "id": "156b5750",
   "metadata": {},
   "outputs": [],
   "source": []
  },
  {
   "cell_type": "code",
   "execution_count": null,
   "id": "5da647af",
   "metadata": {},
   "outputs": [
    {
     "data": {
      "text/plain": [
       "{'offset': 0,\n",
       " 'limit': 300,\n",
       " 'endOfRecords': True,\n",
       " 'count': 0,\n",
       " 'results': [],\n",
       " 'facets': []}"
      ]
     },
     "execution_count": 12,
     "metadata": {},
     "output_type": "execute_result"
    }
   ],
   "source": [
    "results"
   ]
  },
  {
   "cell_type": "code",
   "execution_count": null,
   "id": "77fd2acc",
   "metadata": {},
   "outputs": [],
   "source": [
    "# Wydrukuj kilka wyników\n",
    "for result in results['results']:\n",
    "    print(f\"Species: {result['species']}, Location: {result['decimalLatitude']}, {result['decimalLongitude']}\")"
   ]
  },
  {
   "cell_type": "markdown",
   "id": "a74c8976",
   "metadata": {},
   "source": [
    "## Dataset Class"
   ]
  },
  {
   "cell_type": "code",
   "execution_count": null,
   "id": "6bddcffa",
   "metadata": {},
   "outputs": [],
   "source": [
    "from abc import ABC, abstractmethod\n",
    "import pandas as pd\n",
    "import overpy\n",
    "\n",
    "class ColocationDataset(ABC):\n",
    "    def __init__(self):\n",
    "        \"\"\"\n",
    "        Base class for colocation datasets.\n",
    "        \"\"\"\n",
    "        self._data = None\n",
    "\n",
    "    @abstractmethod\n",
    "    def load_data(self) -> pd.DataFrame:\n",
    "        \"\"\"Loads the data from the source.\"\"\"\n",
    "        pass\n",
    "\n",
    "    @property\n",
    "    def data(self) -> pd.DataFrame:\n",
    "        \"\"\"Returns the loaded data.\"\"\"\n",
    "        return self._data\n",
    "\n",
    "\n",
    "class OSMColocationDataset(ColocationDataset):\n",
    "    def __init__(self, area: tuple, poi_types: list):\n",
    "        \"\"\"\n",
    "        Colocation dataset for OpenStreetMap (OSM) data.\n",
    "\n",
    "        :param area: Area in the format (min_lat, min_lon, max_lat, max_lon)\n",
    "        :param poi_types: List of POI types to search for (e.g., ['restaurant', 'bank'])\n",
    "        \"\"\"\n",
    "        super().__init__()\n",
    "        self._area = area\n",
    "        self._poi_types = poi_types\n",
    "\n",
    "    def load_data(self) -> pd.DataFrame:\n",
    "        \"\"\"Loads data from OSM using the Overpass API.\"\"\"\n",
    "        api = overpy.Overpass()\n",
    "        \n",
    "        query = f\"\"\"\n",
    "        [out:json];\n",
    "        (\n",
    "            {' '.join([f'node[\"amenity\"=\"{poi}\"]({self._area[0]},{self._area[1]},{self._area[2]},{self._area[3]});' for poi in self._poi_types])}\n",
    "        );\n",
    "        out body;\n",
    "        \"\"\"\n",
    "        \n",
    "        result = api.query(query)\n",
    "        \n",
    "        data = []\n",
    "        for node in result.nodes:\n",
    "            data.append({\n",
    "                \"id\": node.id,\n",
    "                \"type\": node.tags.get('amenity', 'unknown'),\n",
    "                \"x\": node.lat,\n",
    "                \"y\": node.lon\n",
    "            })\n",
    "        \n",
    "        self._data = pd.DataFrame(data)\n",
    "        return self.data\n",
    "    \n",
    "    @property\n",
    "    def data(self) -> pd.DataFrame:\n",
    "        \"\"\"Returns the loaded data.\"\"\"\n",
    "        if self._data is None:\n",
    "            self.load_data()\n",
    "        return self._data\n"
   ]
  },
  {
   "cell_type": "code",
   "execution_count": 28,
   "id": "bb339064",
   "metadata": {},
   "outputs": [],
   "source": [
    "area = (52.229, 20.944, 52.410, 21.222)  # Warsaw area\n",
    "poi_types = [\"bar\", \"cafe\", \"fast_food\", \"food_court\", \"ice_cream\", \"pub\", 'restaurant', \"college\", \"library\", \"research_institute\", \"school\", \"university\", \"parking\", \"atm\", 'bank', \"clinic\", \"doctors\", \"pharmacy\", \"veterinary\", \"casino\", \"cinema\", \"events_venue\", \"nightclub\", \"theatre\", \"\tpolice\"]\n",
    "\n",
    "dataset = OSMColocationDataset(area, poi_types)\n",
    "data = dataset.load_data()"
   ]
  },
  {
   "cell_type": "code",
   "execution_count": 36,
   "id": "0a5af5b2",
   "metadata": {},
   "outputs": [
    {
     "data": {
      "text/plain": [
       "(4294, 3)"
      ]
     },
     "execution_count": 36,
     "metadata": {},
     "output_type": "execute_result"
    }
   ],
   "source": [
    "data.shape"
   ]
  },
  {
   "cell_type": "code",
   "execution_count": 30,
   "id": "2f7757b1",
   "metadata": {},
   "outputs": [
    {
     "data": {
      "text/html": [
       "<div>\n",
       "<style scoped>\n",
       "    .dataframe tbody tr th:only-of-type {\n",
       "        vertical-align: middle;\n",
       "    }\n",
       "\n",
       "    .dataframe tbody tr th {\n",
       "        vertical-align: top;\n",
       "    }\n",
       "\n",
       "    .dataframe thead th {\n",
       "        text-align: right;\n",
       "    }\n",
       "</style>\n",
       "<table border=\"1\" class=\"dataframe\">\n",
       "  <thead>\n",
       "    <tr style=\"text-align: right;\">\n",
       "      <th></th>\n",
       "      <th>type</th>\n",
       "      <th>x</th>\n",
       "      <th>y</th>\n",
       "    </tr>\n",
       "  </thead>\n",
       "  <tbody>\n",
       "    <tr>\n",
       "      <th>0</th>\n",
       "      <td>restaurant</td>\n",
       "      <td>52.2399471</td>\n",
       "      <td>21.0619767</td>\n",
       "    </tr>\n",
       "    <tr>\n",
       "      <th>1</th>\n",
       "      <td>fast_food</td>\n",
       "      <td>52.2454787</td>\n",
       "      <td>21.0858030</td>\n",
       "    </tr>\n",
       "    <tr>\n",
       "      <th>2</th>\n",
       "      <td>fast_food</td>\n",
       "      <td>52.2454434</td>\n",
       "      <td>21.0860156</td>\n",
       "    </tr>\n",
       "    <tr>\n",
       "      <th>3</th>\n",
       "      <td>fast_food</td>\n",
       "      <td>52.2451877</td>\n",
       "      <td>21.0825923</td>\n",
       "    </tr>\n",
       "    <tr>\n",
       "      <th>4</th>\n",
       "      <td>restaurant</td>\n",
       "      <td>52.2312362</td>\n",
       "      <td>21.0121087</td>\n",
       "    </tr>\n",
       "  </tbody>\n",
       "</table>\n",
       "</div>"
      ],
      "text/plain": [
       "         type           x           y\n",
       "0  restaurant  52.2399471  21.0619767\n",
       "1   fast_food  52.2454787  21.0858030\n",
       "2   fast_food  52.2454434  21.0860156\n",
       "3   fast_food  52.2451877  21.0825923\n",
       "4  restaurant  52.2312362  21.0121087"
      ]
     },
     "execution_count": 30,
     "metadata": {},
     "output_type": "execute_result"
    }
   ],
   "source": [
    "data.head()"
   ]
  },
  {
   "cell_type": "code",
   "execution_count": 31,
   "id": "c36f52c1",
   "metadata": {},
   "outputs": [],
   "source": [
    "class ColocationPattern:\n",
    "    def __init__(self, types: list, participation_index: float, instances: list):\n",
    "        self.types = tuple(sorted(types))\n",
    "        self.pi = participation_index\n",
    "        self.instances = instances\n",
    "\n",
    "    def __str__(self) -> str:\n",
    "        return f\"Pattern {self.types} (PI={self.pi:.2f}, Instances={len(self.instances)})\"\n",
    "\n",
    "    def to_dict(self) -> dict:\n",
    "        return {\n",
    "            \"types\": self.types,\n",
    "            \"participation_index\": self.pi,\n",
    "            \"num_instances\": len(self.instances)\n",
    "        }"
   ]
  },
  {
   "cell_type": "code",
   "execution_count": null,
   "id": "d03c708d",
   "metadata": {},
   "outputs": [],
   "source": [
    "from scipy.spatial import KDTree\n",
    "from collections import defaultdict\n",
    "from itertools import combinations\n",
    "import pandas as pd\n",
    "\n",
    "\n",
    "class ColocationMiner:\n",
    "    def __init__(self, radius=0.005, min_prevalence=0.3):\n",
    "        self.radius = radius\n",
    "        self.min_prevalence = min_prevalence\n",
    "        self.patterns = []\n",
    "\n",
    "    def fit(self, df: pd.DataFrame) -> None:\n",
    "        self.df = df.reset_index(drop=True)\n",
    "        self.df['id'] = self.df.index\n",
    "        self.instances_by_type = {\n",
    "            t: self.df[self.df['type'] == t] for t in self.df['type'].unique()\n",
    "        }\n",
    "\n",
    "        self.neighbor_pairs = self._find_neighbor_pairs()\n",
    "        self.patterns = self._discover_frequent_patterns()\n",
    "\n",
    "    def _find_neighbor_pairs(self) -> dict:\n",
    "        neighbor_dict = defaultdict(list)\n",
    "        for t1, t2 in combinations(self.instances_by_type.keys(), 2):\n",
    "            pts1 = self.instances_by_type[t1][['x', 'y']].values\n",
    "            pts2 = self.instances_by_type[t2][['x', 'y']].values\n",
    "            ids1 = self.instances_by_type[t1]['id'].values\n",
    "            ids2 = self.instances_by_type[t2]['id'].values\n",
    "\n",
    "            tree = KDTree(pts2)\n",
    "            for i, pt in enumerate(pts1):\n",
    "                idxs = tree.query_ball_point(pt, self.radius)\n",
    "                for j in idxs:\n",
    "                    neighbor_dict[(t1, t2)].append((ids1[i], ids2[j]))\n",
    "\n",
    "        return neighbor_dict\n",
    "\n",
    "    def _discover_frequent_patterns(self) -> list[ColocationPattern]:\n",
    "        patterns = []\n",
    "\n",
    "        for (t1, t2), pairs in self.neighbor_pairs.items():\n",
    "            if not pairs:\n",
    "                continue\n",
    "\n",
    "            ids1 = set(a for a, _ in pairs)\n",
    "            ids2 = set(b for _, b in pairs)\n",
    "\n",
    "            pi1 = len(ids1) / len(self.instances_by_type[t1])\n",
    "            pi2 = len(ids2) / len(self.instances_by_type[t2])\n",
    "            pi = min(pi1, pi2)\n",
    "\n",
    "            if pi >= self.min_prevalence:\n",
    "                patterns.append(ColocationPattern((t1, t2), pi, pairs))\n",
    "\n",
    "        return patterns\n",
    "\n",
    "    def get_patterns(self) -> list[ColocationPattern]:\n",
    "        return sorted(self.patterns, key=lambda p: -p.pi)"
   ]
  },
  {
   "cell_type": "code",
   "execution_count": 37,
   "id": "2ff74edb",
   "metadata": {},
   "outputs": [],
   "source": [
    "miner = ColocationMiner(radius=0.002, min_prevalence=0.3)\n",
    "miner.fit(data)\n",
    "patterns = miner.get_patterns()"
   ]
  },
  {
   "cell_type": "code",
   "execution_count": 38,
   "id": "272be956",
   "metadata": {},
   "outputs": [],
   "source": [
    "patterns_df = pd.DataFrame([p.to_dict() for p in patterns])"
   ]
  },
  {
   "cell_type": "code",
   "execution_count": 39,
   "id": "8c7c0a75",
   "metadata": {},
   "outputs": [
    {
     "data": {
      "text/plain": [
       "(28, 3)"
      ]
     },
     "execution_count": 39,
     "metadata": {},
     "output_type": "execute_result"
    }
   ],
   "source": [
    "patterns_df.shape"
   ]
  },
  {
   "cell_type": "code",
   "execution_count": 40,
   "id": "f974c33f",
   "metadata": {},
   "outputs": [
    {
     "data": {
      "text/html": [
       "<div>\n",
       "<style scoped>\n",
       "    .dataframe tbody tr th:only-of-type {\n",
       "        vertical-align: middle;\n",
       "    }\n",
       "\n",
       "    .dataframe tbody tr th {\n",
       "        vertical-align: top;\n",
       "    }\n",
       "\n",
       "    .dataframe thead th {\n",
       "        text-align: right;\n",
       "    }\n",
       "</style>\n",
       "<table border=\"1\" class=\"dataframe\">\n",
       "  <thead>\n",
       "    <tr style=\"text-align: right;\">\n",
       "      <th></th>\n",
       "      <th>types</th>\n",
       "      <th>participation_index</th>\n",
       "      <th>num_instances</th>\n",
       "    </tr>\n",
       "  </thead>\n",
       "  <tbody>\n",
       "    <tr>\n",
       "      <th>0</th>\n",
       "      <td>(atm, fast_food)</td>\n",
       "      <td>0.722330</td>\n",
       "      <td>1750</td>\n",
       "    </tr>\n",
       "    <tr>\n",
       "      <th>1</th>\n",
       "      <td>(cafe, fast_food)</td>\n",
       "      <td>0.672026</td>\n",
       "      <td>1733</td>\n",
       "    </tr>\n",
       "    <tr>\n",
       "      <th>2</th>\n",
       "      <td>(cafe, restaurant)</td>\n",
       "      <td>0.643221</td>\n",
       "      <td>2479</td>\n",
       "    </tr>\n",
       "    <tr>\n",
       "      <th>3</th>\n",
       "      <td>(fast_food, restaurant)</td>\n",
       "      <td>0.622834</td>\n",
       "      <td>3095</td>\n",
       "    </tr>\n",
       "    <tr>\n",
       "      <th>4</th>\n",
       "      <td>(bar, pub)</td>\n",
       "      <td>0.620879</td>\n",
       "      <td>268</td>\n",
       "    </tr>\n",
       "    <tr>\n",
       "      <th>5</th>\n",
       "      <td>(atm, cafe)</td>\n",
       "      <td>0.613592</td>\n",
       "      <td>1071</td>\n",
       "    </tr>\n",
       "    <tr>\n",
       "      <th>6</th>\n",
       "      <td>(atm, pharmacy)</td>\n",
       "      <td>0.610169</td>\n",
       "      <td>460</td>\n",
       "    </tr>\n",
       "    <tr>\n",
       "      <th>7</th>\n",
       "      <td>(atm, bank)</td>\n",
       "      <td>0.578641</td>\n",
       "      <td>609</td>\n",
       "    </tr>\n",
       "    <tr>\n",
       "      <th>8</th>\n",
       "      <td>(atm, restaurant)</td>\n",
       "      <td>0.573904</td>\n",
       "      <td>1721</td>\n",
       "    </tr>\n",
       "    <tr>\n",
       "      <th>9</th>\n",
       "      <td>(fast_food, pharmacy)</td>\n",
       "      <td>0.542373</td>\n",
       "      <td>556</td>\n",
       "    </tr>\n",
       "    <tr>\n",
       "      <th>10</th>\n",
       "      <td>(cafe, doctors)</td>\n",
       "      <td>0.492958</td>\n",
       "      <td>352</td>\n",
       "    </tr>\n",
       "    <tr>\n",
       "      <th>11</th>\n",
       "      <td>(bank, fast_food)</td>\n",
       "      <td>0.483923</td>\n",
       "      <td>657</td>\n",
       "    </tr>\n",
       "    <tr>\n",
       "      <th>12</th>\n",
       "      <td>(doctors, fast_food)</td>\n",
       "      <td>0.472669</td>\n",
       "      <td>578</td>\n",
       "    </tr>\n",
       "    <tr>\n",
       "      <th>13</th>\n",
       "      <td>(bank, cafe)</td>\n",
       "      <td>0.471831</td>\n",
       "      <td>355</td>\n",
       "    </tr>\n",
       "    <tr>\n",
       "      <th>14</th>\n",
       "      <td>(pharmacy, restaurant)</td>\n",
       "      <td>0.470948</td>\n",
       "      <td>639</td>\n",
       "    </tr>\n",
       "    <tr>\n",
       "      <th>15</th>\n",
       "      <td>(cafe, pharmacy)</td>\n",
       "      <td>0.423729</td>\n",
       "      <td>339</td>\n",
       "    </tr>\n",
       "    <tr>\n",
       "      <th>16</th>\n",
       "      <td>(bar, cafe)</td>\n",
       "      <td>0.415493</td>\n",
       "      <td>690</td>\n",
       "    </tr>\n",
       "    <tr>\n",
       "      <th>17</th>\n",
       "      <td>(atm, doctors)</td>\n",
       "      <td>0.407767</td>\n",
       "      <td>369</td>\n",
       "    </tr>\n",
       "    <tr>\n",
       "      <th>18</th>\n",
       "      <td>(doctors, restaurant)</td>\n",
       "      <td>0.406728</td>\n",
       "      <td>653</td>\n",
       "    </tr>\n",
       "    <tr>\n",
       "      <th>19</th>\n",
       "      <td>(bar, nightclub)</td>\n",
       "      <td>0.406593</td>\n",
       "      <td>256</td>\n",
       "    </tr>\n",
       "    <tr>\n",
       "      <th>20</th>\n",
       "      <td>(doctors, pharmacy)</td>\n",
       "      <td>0.396610</td>\n",
       "      <td>173</td>\n",
       "    </tr>\n",
       "    <tr>\n",
       "      <th>21</th>\n",
       "      <td>(bar, fast_food)</td>\n",
       "      <td>0.384244</td>\n",
       "      <td>1218</td>\n",
       "    </tr>\n",
       "    <tr>\n",
       "      <th>22</th>\n",
       "      <td>(bank, doctors)</td>\n",
       "      <td>0.382609</td>\n",
       "      <td>166</td>\n",
       "    </tr>\n",
       "    <tr>\n",
       "      <th>23</th>\n",
       "      <td>(college, school)</td>\n",
       "      <td>0.380682</td>\n",
       "      <td>176</td>\n",
       "    </tr>\n",
       "    <tr>\n",
       "      <th>24</th>\n",
       "      <td>(bar, restaurant)</td>\n",
       "      <td>0.374108</td>\n",
       "      <td>1655</td>\n",
       "    </tr>\n",
       "    <tr>\n",
       "      <th>25</th>\n",
       "      <td>(bank, pharmacy)</td>\n",
       "      <td>0.342373</td>\n",
       "      <td>204</td>\n",
       "    </tr>\n",
       "    <tr>\n",
       "      <th>26</th>\n",
       "      <td>(bank, restaurant)</td>\n",
       "      <td>0.340469</td>\n",
       "      <td>601</td>\n",
       "    </tr>\n",
       "    <tr>\n",
       "      <th>27</th>\n",
       "      <td>(bar, theatre)</td>\n",
       "      <td>0.307692</td>\n",
       "      <td>64</td>\n",
       "    </tr>\n",
       "  </tbody>\n",
       "</table>\n",
       "</div>"
      ],
      "text/plain": [
       "                      types  participation_index  num_instances\n",
       "0          (atm, fast_food)             0.722330           1750\n",
       "1         (cafe, fast_food)             0.672026           1733\n",
       "2        (cafe, restaurant)             0.643221           2479\n",
       "3   (fast_food, restaurant)             0.622834           3095\n",
       "4                (bar, pub)             0.620879            268\n",
       "5               (atm, cafe)             0.613592           1071\n",
       "6           (atm, pharmacy)             0.610169            460\n",
       "7               (atm, bank)             0.578641            609\n",
       "8         (atm, restaurant)             0.573904           1721\n",
       "9     (fast_food, pharmacy)             0.542373            556\n",
       "10          (cafe, doctors)             0.492958            352\n",
       "11        (bank, fast_food)             0.483923            657\n",
       "12     (doctors, fast_food)             0.472669            578\n",
       "13             (bank, cafe)             0.471831            355\n",
       "14   (pharmacy, restaurant)             0.470948            639\n",
       "15         (cafe, pharmacy)             0.423729            339\n",
       "16              (bar, cafe)             0.415493            690\n",
       "17           (atm, doctors)             0.407767            369\n",
       "18    (doctors, restaurant)             0.406728            653\n",
       "19         (bar, nightclub)             0.406593            256\n",
       "20      (doctors, pharmacy)             0.396610            173\n",
       "21         (bar, fast_food)             0.384244           1218\n",
       "22          (bank, doctors)             0.382609            166\n",
       "23        (college, school)             0.380682            176\n",
       "24        (bar, restaurant)             0.374108           1655\n",
       "25         (bank, pharmacy)             0.342373            204\n",
       "26       (bank, restaurant)             0.340469            601\n",
       "27           (bar, theatre)             0.307692             64"
      ]
     },
     "execution_count": 40,
     "metadata": {},
     "output_type": "execute_result"
    }
   ],
   "source": [
    "patterns_df"
   ]
  },
  {
   "cell_type": "code",
   "execution_count": null,
   "id": "d3845754",
   "metadata": {},
   "outputs": [],
   "source": []
  }
 ],
 "metadata": {
  "kernelspec": {
   "display_name": ".venv",
   "language": "python",
   "name": "python3"
  },
  "language_info": {
   "codemirror_mode": {
    "name": "ipython",
    "version": 3
   },
   "file_extension": ".py",
   "mimetype": "text/x-python",
   "name": "python",
   "nbconvert_exporter": "python",
   "pygments_lexer": "ipython3",
   "version": "3.12.9"
  }
 },
 "nbformat": 4,
 "nbformat_minor": 5
}
